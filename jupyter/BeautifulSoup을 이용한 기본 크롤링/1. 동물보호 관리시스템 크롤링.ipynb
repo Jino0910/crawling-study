{
 "cells": [
  {
   "cell_type": "markdown",
   "metadata": {},
   "source": [
    "# 1. 동물보호 관리시스템 크롤링\n"
   ]
  },
  {
   "cell_type": "code",
   "execution_count": 118,
   "metadata": {},
   "outputs": [],
   "source": [
    "import requests\n",
    "from bs4 import BeautifulSoup"
   ]
  },
  {
   "cell_type": "markdown",
   "metadata": {},
   "source": [
    "### 등록관리 정보"
   ]
  },
  {
   "cell_type": "code",
   "execution_count": 119,
   "metadata": {},
   "outputs": [],
   "source": [
    "url = \"http://animal.go.kr/portal_rnl/vicarious/record_confirmation.jsp?search_dog_reg_no=410097800104582\"\n",
    "\n",
    "req = requests.get(url)\n",
    "soup = BeautifulSoup(req.content, 'html.parser')"
   ]
  },
  {
   "cell_type": "code",
   "execution_count": 120,
   "metadata": {},
   "outputs": [
    {
     "name": "stdout",
     "output_type": "stream",
     "text": [
      "제목 : 등록번호\n",
      "내용 : 410097800104582 \n",
      "제목 : 개이름\n",
      "내용 : 찹쌀 \n",
      "제목 : 품종\n",
      "내용 : 스피츠 \n",
      "제목 : 관할기관\n",
      "내용 : 서울특별시 동작구 \n"
     ]
    }
   ],
   "source": [
    "table = soup.find('table', {'class': 'viewTable'})\n",
    "trList = table.findAll('tr')\n",
    "\n",
    "for tr in trList:\n",
    "    print(\"제목 : \"+tr.th.text)\n",
    "    print(\"내용 : \"+tr.td.text)"
   ]
  },
  {
   "cell_type": "code",
   "execution_count": null,
   "metadata": {},
   "outputs": [],
   "source": []
  }
 ],
 "metadata": {
  "kernelspec": {
   "display_name": "Python 3",
   "language": "python",
   "name": "python3"
  },
  "language_info": {
   "codemirror_mode": {
    "name": "ipython",
    "version": 3
   },
   "file_extension": ".py",
   "mimetype": "text/x-python",
   "name": "python",
   "nbconvert_exporter": "python",
   "pygments_lexer": "ipython3",
   "version": "3.6.4"
  }
 },
 "nbformat": 4,
 "nbformat_minor": 2
}
