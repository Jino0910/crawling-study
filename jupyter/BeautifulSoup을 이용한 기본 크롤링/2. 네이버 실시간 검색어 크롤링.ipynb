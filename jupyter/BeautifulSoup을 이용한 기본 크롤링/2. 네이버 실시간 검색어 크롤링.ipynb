{
 "cells": [
  {
   "cell_type": "code",
   "execution_count": 13,
   "metadata": {},
   "outputs": [
    {
     "name": "stdout",
     "output_type": "stream",
     "text": [
      "읶메뜨\n",
      "전국조합장선거\n",
      "강신명\n",
      "송명빈\n",
      "농협조합장선거\n",
      "박봄\n",
      "솥뚜껑 닭볶음탕\n",
      "샤갈찜\n",
      "조합장선거\n",
      "육회비빔국수\n",
      "경찰청장\n",
      "중앙선거관리위원회\n",
      "경찰총장\n",
      "가평 솥뚜껑 닭볶음탕\n",
      "마커그룹\n",
      "박봄 소속사\n",
      "유벤투스 아틀레티코\n",
      "add\n",
      "일리커피머신\n",
      "은평구 화재\n"
     ]
    }
   ],
   "source": [
    "import requests\n",
    "from bs4 import BeautifulSoup\n",
    "\n",
    "url = 'https://naver.com'\n",
    "\n",
    "html = requests.get(url).text\n",
    "soup = BeautifulSoup(html, 'html.parser')\n",
    "\n",
    "top20List = soup.select(\"#PM_ID_ct > div.header > div.section_navbar > div.area_hotkeyword.PM_CL_realtimeKeyword_base > div.ah_roll.PM_CL_realtimeKeyword_rolling_base > div > ul > li > a > span.ah_k\")\n",
    "\n",
    "for data in top20List:\n",
    "    print (data.text)"
   ]
  },
  {
   "cell_type": "code",
   "execution_count": null,
   "metadata": {},
   "outputs": [],
   "source": []
  }
 ],
 "metadata": {
  "kernelspec": {
   "display_name": "Python 3",
   "language": "python",
   "name": "python3"
  },
  "language_info": {
   "codemirror_mode": {
    "name": "ipython",
    "version": 3
   },
   "file_extension": ".py",
   "mimetype": "text/x-python",
   "name": "python",
   "nbconvert_exporter": "python",
   "pygments_lexer": "ipython3",
   "version": "3.6.4"
  }
 },
 "nbformat": 4,
 "nbformat_minor": 2
}
