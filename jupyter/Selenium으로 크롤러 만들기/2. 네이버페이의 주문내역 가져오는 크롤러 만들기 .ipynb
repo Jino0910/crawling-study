{
 "cells": [
  {
   "cell_type": "code",
   "execution_count": 12,
   "metadata": {},
   "outputs": [],
   "source": [
    "from selenium import webdriver\n",
    "from bs4 import BeautifulSoup\n",
    "\n",
    "driver = webdriver.Firefox()\n",
    "driver.implicitly_wait(2)\n",
    "\n",
    "driver.get('https://nid.naver.com/nidlogin.login')\n",
    "\n",
    "driver.find_element_by_id('id').send_keys('')\n",
    "driver.find_element_by_id('pw').send_keys('')\n",
    "\n",
    "driver.find_element_by_xpath(\n",
    "    '//*[@id=\"frmNIDLogin\"]/fieldset/input'\n",
    ").click()\n",
    "\n",
    "driver.get('https://order.pay.naver.com/home')\n",
    "html = driver.page_source\n",
    "soup = BeautifulSoup(html, 'html.parser')\n",
    "\n",
    "notices = soup.select('div.goods_group > div.goods_info > a.goods > p.name > span')\n",
    "\n",
    "for n in notices:\n",
    "    print(n.text.strip())"
   ]
  },
  {
   "cell_type": "code",
   "execution_count": null,
   "metadata": {},
   "outputs": [],
   "source": []
  }
 ],
 "metadata": {
  "kernelspec": {
   "display_name": "Python 3",
   "language": "python",
   "name": "python3"
  },
  "language_info": {
   "codemirror_mode": {
    "name": "ipython",
    "version": 3
   },
   "file_extension": ".py",
   "mimetype": "text/x-python",
   "name": "python",
   "nbconvert_exporter": "python",
   "pygments_lexer": "ipython3",
   "version": "3.6.4"
  }
 },
 "nbformat": 4,
 "nbformat_minor": 2
}
