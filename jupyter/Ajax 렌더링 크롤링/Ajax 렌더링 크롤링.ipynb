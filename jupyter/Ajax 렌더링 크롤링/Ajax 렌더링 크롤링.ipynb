{
 "cells": [
  {
   "cell_type": "markdown",
   "metadata": {},
   "source": [
    "# Ajax 렌더링 크롤링"
   ]
  },
  {
   "cell_type": "code",
   "execution_count": 14,
   "metadata": {},
   "outputs": [],
   "source": [
    "import requests\n",
    "import json"
   ]
  },
  {
   "cell_type": "code",
   "execution_count": 17,
   "metadata": {},
   "outputs": [],
   "source": [
    "jsonURL = \"https://askdjango.github.io/lv2/data.json\"\n",
    "\n",
    "jsonStr = requests.get(jsonURL).text\n",
    "\n",
    "dataDic = json.loads(jsonStr)\n",
    "\n",
    "dataList = dataDic['s2']"
   ]
  },
  {
   "cell_type": "code",
   "execution_count": 21,
   "metadata": {},
   "outputs": [
    {
     "name": "stdout",
     "output_type": "stream",
     "text": [
      "장고 2.0 주요 변경내역 살펴보기 https://www.askcompany.kr/r/sections/f04de5e/\n",
      "장고 2.0 주요 변경내역 살펴보기 https://www.askcompany.kr/r/sections/f04de5e/\n",
      "(기초편) 장고 차근차근 시작하기 2/E https://www.askcompany.kr/r/sections/dfc55e7/\n",
      "(기초편) 장고 차근차근 시작하기 2/E https://www.askcompany.kr/r/sections/dfc55e7/\n",
      "(중급편) 장고 기본인증 뽀개기 https://www.askcompany.kr/r/sections/5bb1344/\n",
      "(중급편) 장고 기본인증 뽀개기 https://www.askcompany.kr/r/sections/5bb1344/\n",
      "(중급편) 장고 Form/ModelForm 제대로 알고 쓰기 https://www.askcompany.kr/r/sections/72d2474/\n",
      "(중급편) 장고 Form/ModelForm 제대로 알고 쓰기 https://www.askcompany.kr/r/sections/72d2474/\n",
      "(중급편) 클래스 기반 뷰 잘 알고 쓰기 https://www.askcompany.kr/r/sections/387169d/\n",
      "(중급편) 클래스 기반 뷰 잘 알고 쓰기 https://www.askcompany.kr/r/sections/387169d/\n",
      "(배포) 빠르게 살펴보는 Azure PaaS를 활용한 인프라 스트레스없는 웹서비스 배포 https://www.askcompany.kr/r/sections/7d64b4a/\n",
      "(배포) 빠르게 살펴보는 Azure PaaS를 활용한 인프라 스트레스없는 웹서비스 배포 https://www.askcompany.kr/r/sections/7d64b4a/\n",
      "(초급) Pandas 워밍업 https://www.askcompany.kr/r/sections/f5bf323/\n",
      "(초급) Pandas 워밍업 https://www.askcompany.kr/r/sections/f5bf323/\n",
      "(초급) 10 Minutes to Pandas 따라하기 https://www.askcompany.kr/r/sections/d8ccb08/\n",
      "(초급) 10 Minutes to Pandas 따라하기 https://www.askcompany.kr/r/sections/d8ccb08/\n",
      "Google Dialogflow와 파이썬/장고를 활용하여, 카카오톡 챗봇 만들기 (초급편) https://www.askcompany.kr/r/sections/d47e585/\n",
      "Google Dialogflow와 파이썬/장고를 활용하여, 카카오톡 챗봇 만들기 (초급편) https://www.askcompany.kr/r/sections/d47e585/\n"
     ]
    }
   ],
   "source": [
    "for data in dataList:\n",
    "    print(data['name'], data['url'])\n",
    "    print('{name} {url}'.format(**data))"
   ]
  },
  {
   "cell_type": "code",
   "execution_count": null,
   "metadata": {},
   "outputs": [],
   "source": []
  }
 ],
 "metadata": {
  "kernelspec": {
   "display_name": "Python 3",
   "language": "python",
   "name": "python3"
  },
  "language_info": {
   "codemirror_mode": {
    "name": "ipython",
    "version": 3
   },
   "file_extension": ".py",
   "mimetype": "text/x-python",
   "name": "python",
   "nbconvert_exporter": "python",
   "pygments_lexer": "ipython3",
   "version": "3.6.4"
  }
 },
 "nbformat": 4,
 "nbformat_minor": 2
}
