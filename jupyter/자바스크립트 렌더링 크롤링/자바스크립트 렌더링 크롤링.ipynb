{
 "cells": [
  {
   "cell_type": "markdown",
   "metadata": {},
   "source": [
    "# 자바스크립트 렌더링 크롤링"
   ]
  },
  {
   "cell_type": "code",
   "execution_count": 1,
   "metadata": {},
   "outputs": [],
   "source": [
    "import re #정규표현식\n",
    "import requests\n",
    "import json"
   ]
  },
  {
   "cell_type": "code",
   "execution_count": 2,
   "metadata": {},
   "outputs": [],
   "source": [
    "url = \"https://askdjango.github.io/lv3/\"\n",
    "\n",
    "html = requests.get(url).text"
   ]
  },
  {
   "cell_type": "code",
   "execution_count": 3,
   "metadata": {},
   "outputs": [],
   "source": [
    "#정규표현식에서 일부만 매칭되길 원하면 search\n",
    "#정규표현식에서 전부를 매칭되길 원하면 match를 사용\n",
    "#re.search(r'var courses = ();') # 끝에 있는 ()부분을 뽑아내겠다는 뜻\n",
    "# re.search(r'var courses = (.*);', html) # .: 모든 *:문자열 즉 .* :모든문자열"
   ]
  },
  {
   "cell_type": "code",
   "execution_count": 6,
   "metadata": {},
   "outputs": [
    {
     "name": "stdout",
     "output_type": "stream",
     "text": [
      "개발환경 구축하기 https://www.askcompany.kr/vod/setup/\n",
      "파이썬 차근차근 시작하기 https://www.askcompany.kr/vod/python/\n",
      "크롤링 차근차근 시작하기 https://www.askcompany.kr/vod/crawling/\n",
      "파이썬으로 업무 자동화 https://www.askcompany.kr/vod/automation/\n",
      "장고 - 기본편 https://www.askcompany.kr/vod/django/\n",
      "장고걸스 튜토리얼 https://www.askcompany.kr/vod/djangogirls/\n",
      "장고 - Form/ModelForm 잘 알고 쓰기 https://www.askcompany.kr/vod/form/\n",
      "장고 - 클래스 기반 뷰. 잘 알고 쓰기 https://www.askcompany.kr/vod/cbv/\n",
      "장고 - 결제 시스템 연동 https://www.askcompany.kr/vod/payment/\n",
      "장고 - 웹 프론트엔드 시작편 https://www.askcompany.kr/vod/frontend/\n",
      "장고 - 다양한 위젯 만들기 https://www.askcompany.kr/vod/widgets/\n",
      "장고 - API 서버 만들기 및 초간단 안드로이드 앱 만들기 https://www.askcompany.kr/vod/apiserver/\n",
      "장고 - 하이브리드 앱 만들기 https://www.askcompany.kr/vod/hybrid/\n",
      "장고 - 서비스 배포하기 https://www.askcompany.kr/vod/deploy/\n",
      "장고 - 실전편 (Feat. 배달의 민족 St. 만들기) https://www.askcompany.kr/vod/django-baemin/\n",
      "장고 - 실전편 (Feat. 인스타그램 St. 만들기) https://www.askcompany.kr/vod/django-instagram/\n"
     ]
    }
   ],
   "source": [
    "matched = re.search(r'var s1_courses = (.*?);', html, re.S)\n",
    "\n",
    "# print(matched)\n",
    "# print(matched.group(1))\n",
    "\n",
    "dataList = json.loads(matched.group(1))\n",
    "\n",
    "for data in dataList:\n",
    "    print(data[\"name\"], data[\"url\"])\n"
   ]
  },
  {
   "cell_type": "code",
   "execution_count": null,
   "metadata": {},
   "outputs": [],
   "source": []
  }
 ],
 "metadata": {
  "kernelspec": {
   "display_name": "Python 3",
   "language": "python",
   "name": "python3"
  },
  "language_info": {
   "codemirror_mode": {
    "name": "ipython",
    "version": 3
   },
   "file_extension": ".py",
   "mimetype": "text/x-python",
   "name": "python",
   "nbconvert_exporter": "python",
   "pygments_lexer": "ipython3",
   "version": "3.6.4"
  }
 },
 "nbformat": 4,
 "nbformat_minor": 2
}
